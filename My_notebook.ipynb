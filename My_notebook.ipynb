{
 "cells": [
  {
   "cell_type": "markdown",
   "id": "7e754e90-c329-4d43-9794-f181b1b66527",
   "metadata": {},
   "source": [
    "### Bài 1: Viết và thực thi code"
   ]
  },
  {
   "cell_type": "code",
   "execution_count": 1,
   "id": "b6f00ebe-0608-4446-bbc2-079653615f71",
   "metadata": {},
   "outputs": [
    {
     "data": {
      "text/plain": [
       "2"
      ]
     },
     "execution_count": 1,
     "metadata": {},
     "output_type": "execute_result"
    }
   ],
   "source": [
    "1 + 1"
   ]
  },
  {
   "cell_type": "markdown",
   "id": "112499c5-7e5a-4fe4-8136-f01f914ac625",
   "metadata": {},
   "source": [
    "### Bài 2: Tạo một cell mới"
   ]
  },
  {
   "cell_type": "code",
   "execution_count": null,
   "id": "501ea52e-7c9b-4700-8d33-cee37914e7ac",
   "metadata": {},
   "outputs": [],
   "source": []
  },
  {
   "cell_type": "code",
   "execution_count": null,
   "id": "8c5a2c58-899e-4072-b9b1-425322a8c5f3",
   "metadata": {},
   "outputs": [],
   "source": []
  },
  {
   "cell_type": "code",
   "execution_count": null,
   "id": "fee5c9ac-98b0-4298-be5f-a861e19a9ea8",
   "metadata": {},
   "outputs": [],
   "source": []
  },
  {
   "cell_type": "markdown",
   "id": "21eb0e0c-ca66-44a6-9a9f-83a09a6d3b33",
   "metadata": {},
   "source": [
    "### Bài 3: Tạo cell Markdown và thêm văn bản"
   ]
  },
  {
   "cell_type": "markdown",
   "id": "a8cb2115-07c0-4434-8689-8a4e2e260b4f",
   "metadata": {},
   "source": [
    "My Title"
   ]
  },
  {
   "cell_type": "code",
   "execution_count": null,
   "id": "a9604861-184e-4ceb-a6a0-10604b152e0b",
   "metadata": {},
   "outputs": [],
   "source": []
  },
  {
   "cell_type": "markdown",
   "id": "ac7b248f-66b4-4430-91a7-fc94422cef1a",
   "metadata": {},
   "source": [
    "### Bài 4: Đổi tên notebook "
   ]
  },
  {
   "cell_type": "markdown",
   "id": "684cd2bf-6210-4238-adf7-b447eab574d2",
   "metadata": {},
   "source": [
    "### Bài 5:  Lưu và tải xuống Jupyter Notebook vào máy tính của bạn "
   ]
  },
  {
   "cell_type": "markdown",
   "id": "3e3bb6bd-f279-419f-986f-caeec86dbdda",
   "metadata": {},
   "source": [
    "### Bài 6:Tạo kiểu Markdown nâng cao"
   ]
  },
  {
   "cell_type": "code",
   "execution_count": null,
   "id": "0679bd9e-62cc-49cf-9ff3-6129e6ad966e",
   "metadata": {},
   "outputs": [],
   "source": [
    "#Header"
   ]
  },
  {
   "cell_type": "markdown",
   "id": "af96afcf-34ac-41ea-854a-ed5687119f1d",
   "metadata": {},
   "source": [
    "# H1\n",
    "## H2\n",
    "### H3\n",
    "#### H4\n",
    "##### H5\n",
    "###### H6"
   ]
  },
  {
   "cell_type": "markdown",
   "id": "aef09673-b037-4007-be08-05640042e645",
   "metadata": {},
   "source": [
    "## Inline HTML\n",
    "<dl>\n",
    "  <dt>Definition list</dt>\n",
    "  <dd>Is something people use sometimes.</dd>\n",
    "\n",
    "  <dt>Markdown in HTML</dt>\n",
    "  <dd>Does *not* work **very** well. Use HTML <em>tags</em>.</dd>\n",
    "</dl>"
   ]
  },
  {
   "cell_type": "markdown",
   "id": "87849421-672b-4307-bbef-4b7055a6a378",
   "metadata": {},
   "source": [
    "#Table\n",
    "\n",
    "| header | header | \n",
    "| ------ | ------ | \n",
    "| cell | cell | \n"
   ]
  },
  {
   "cell_type": "markdown",
   "id": "7a4ab1d3-aa59-47fe-b017-c48028ebe655",
   "metadata": {},
   "source": [
    "### Bài tập 7: Tạo kiểu Markdown nâng cao: Tạo bảng"
   ]
  },
  {
   "cell_type": "markdown",
   "id": "5a84fbc3-b125-444c-90df-b2a9c8fc5606",
   "metadata": {},
   "source": [
    "| header | header | header |\n",
    "| ------ | ------ | ------ |\n",
    "| cell   |  cell  | cell   |\n",
    "| cell   |  cell  | cell   |\n",
    "| cell   |  cell  | cell   |\n",
    "| cell   |  cell  | cell   |"
   ]
  },
  {
   "cell_type": "code",
   "execution_count": null,
   "id": "56d7a88a-060a-40f2-875e-5abf95547ff2",
   "metadata": {},
   "outputs": [],
   "source": []
  }
 ],
 "metadata": {
  "kernelspec": {
   "display_name": "Python 3.9 (tensorflow)",
   "language": "python",
   "name": "tensorflow"
  },
  "language_info": {
   "codemirror_mode": {
    "name": "ipython",
    "version": 3
   },
   "file_extension": ".py",
   "mimetype": "text/x-python",
   "name": "python",
   "nbconvert_exporter": "python",
   "pygments_lexer": "ipython3",
   "version": "3.9.7"
  }
 },
 "nbformat": 4,
 "nbformat_minor": 5
}
